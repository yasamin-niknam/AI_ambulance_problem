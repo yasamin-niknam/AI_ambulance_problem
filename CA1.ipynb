{
 "cells": [
  {
   "cell_type": "markdown",
   "metadata": {
    "colab": {
     "base_uri": "https://localhost:8080/",
     "height": 211
    },
    "colab_type": "code",
    "executionInfo": {
     "elapsed": 13152,
     "status": "ok",
     "timestamp": 1583053300764,
     "user": {
      "displayName": "yasamin niknam",
      "photoUrl": "",
      "userId": "01526320391404812660"
     },
     "user_tz": -210
    },
    "id": "SI8minds6zUz",
    "outputId": "dcc92322-dd11-4773-c40b-3e9f673c415a"
   },
   "source": [
    "# The Ambulance Problem"
   ]
  },
  {
   "cell_type": "markdown",
   "metadata": {},
   "source": [
    "In this problem, we are about to find the best route in which the ambulance can take all the patients to the nearest hospital availabe."
   ]
  },
  {
   "cell_type": "markdown",
   "metadata": {},
   "source": [
    "## Libraries\n",
    "\n",
    "In this project, `time` library is used to measure time of each solution.\n",
    "<br>\n",
    "`Orderedset` is imported to implement BFS solver for this problem.(Odreded set is a set that keeps its items in order as well)\n",
    "    "
   ]
  },
  {
   "cell_type": "code",
   "execution_count": 69,
   "metadata": {},
   "outputs": [],
   "source": [
    "# !pip3 install ordered_set\n",
    "\n",
    "import time\n",
    "from ordered_set import OrderedSet"
   ]
  },
  {
   "cell_type": "markdown",
   "metadata": {},
   "source": [
    "## States(or Nodes)\n",
    "We model each state as an instance of Node class, in which we keep the location of the ambulance, all the patients, hospitals and walls of the map as well.\n",
    "<br>\n",
    "Each state is modeled using a Node. Then by using the function `find_next_nodes()`, each state will find the next states it can step into using an action. \n",
    "<br>\n",
    "Directions are considered as our **actions**.(*Up*, *Down*, *Left*, *Right*) Moving the ambulance from one location to another is made by these actions.\n",
    "<br>\n",
    "<br>\n",
    "<br>\n",
    "We also need to rewrite the `__eq__` and `__hash__` functions due to out implementation.\n",
    "<br>\n",
    "<br>\n",
    "First, we change the `__eq__` function cause the importance of states (that make them different as well) is their ambulance location, patients, and hospitals. In order to pay attention to these features and not anything else, the `__eq__` function has to change.\n",
    "<br>\n",
    "Second, as we are using `OrderedSet` ,we need to change the `__hash__` function in the way that we can keep it in sets, so we hash each instance to make it compatible with tuples."
   ]
  },
  {
   "cell_type": "code",
   "execution_count": 70,
   "metadata": {
    "colab": {},
    "colab_type": "code",
    "id": "Q5VKGhHM6zU7"
   },
   "outputs": [],
   "source": [
    "class Node:\n",
    "    def __init__(self, position, walls, patients, hospitals, g = 0):\n",
    "        self.position = position\n",
    "        self.walls = walls\n",
    "        self.patients = patients\n",
    "        self.hospitals = hospitals\n",
    "        self.g = g\n",
    "        self.h = 0\n",
    "        self.f = 0\n",
    "        self.parent = None\n",
    "    \n",
    "    def calc_h(self, method):\n",
    "        for patient in self.patients: \n",
    "            temp = 100000000\n",
    "            for hospital in self.hospitals:\n",
    "                if method == 'h1':\n",
    "                    dist = abs(hospital[0][0]-patient[0]) + abs(hospital[0][1] - patient[1])\n",
    "                else:\n",
    "                    dist = (abs(hospital[0][0]-patient[0])**2 + abs(hospital[0][1] - patient[1])**2) ** 0.5\n",
    "                if  dist < temp and hospital[1] > 0:\n",
    "                    temp = dist\n",
    "            self.h += temp\n",
    "\n",
    "    def find_next_nodes(self):\n",
    "        next_legal_nodes = []\n",
    "        legal_moves = [[0, 1], [0, -1], [1, 0], [-1, 0]]\n",
    "        for move in legal_moves:\n",
    "            new_position = (self.position[0] + move[0], self.position[1] + move[1])\n",
    "            if new_position in self.walls:\n",
    "                continue\n",
    "            elif new_position in self.patients:\n",
    "                if new_position[0] + move[0] < 0 or new_position[1] + move[1] < 0:\n",
    "                    continue\n",
    "                    \n",
    "                new_patient_position = (new_position[0] + move[0], new_position[1] + move[1])\n",
    "                if new_patient_position in self.patients or new_patient_position in self.walls:\n",
    "                    continue\n",
    "            \n",
    "                founded = 0\n",
    "                for hospital in self.hospitals:\n",
    "                    if new_patient_position == hospital[0]:\n",
    "                        new_patients = self.patients.copy()\n",
    "                        new_hospitals = self.hospitals.copy()\n",
    "                        if hospital[1] > 0:\n",
    "                            new_patients.discard(new_position)\n",
    "                            new_hospitals.discard(hospital)\n",
    "                            new_hospitals.add((hospital[0], hospital[1]-1))\n",
    "                        else:\n",
    "                            new_patients.discard(new_position)\n",
    "                            new_patients.add((new_position[0]+move[0], new_position[1]+move[1]))\n",
    "                        next_legal_nodes.append(Node(new_position, self.walls, new_patients, new_hospitals, self.g+1))\n",
    "                        founded = 1\n",
    "                        break\n",
    "                if not founded:\n",
    "                    new_patients = self.patients.copy()\n",
    "                    new_patients.discard(new_position)\n",
    "                    new_patients.add((new_position[0]+move[0], new_position[1]+move[1]))\n",
    "                    next_legal_nodes.append(Node(new_position, self.walls, new_patients, self.hospitals.copy(), self.g+1))\n",
    "            else:\n",
    "                next_legal_nodes.append(Node(new_position, self.walls, self.patients.copy(), self.hospitals.copy(), self.g+1))\n",
    "        return next_legal_nodes\n",
    "    \n",
    "    def find_path(self):\n",
    "        path = []\n",
    "        current = self\n",
    "        while current.parent:\n",
    "            path.append(current)\n",
    "            current = current.parent\n",
    "        path.append(current)\n",
    "        return path[::-1]\n",
    "\n",
    "    \n",
    "    def __eq__(self, new_node):\n",
    "        return self.hospitals == new_node.hospitals and self.patients == new_node.patients and \\\n",
    "            self.position == new_node.position\n",
    "\n",
    "    def __hash__(self):\n",
    "        return hash((tuple(self.position), tuple(self.walls), tuple(self.patients), tuple(self.hospitals)))\n",
    "    "
   ]
  },
  {
   "cell_type": "markdown",
   "metadata": {},
   "source": [
    "**Initial state** is the first state that is inspired from the given map, having initial location of *ambulance*, *walls*, *patients*, and *hospitals*.\n",
    "For finding the initial state(or start state), we tend to use a function called `find_startstate` explained below:\n",
    "<br>\n",
    "In this function by getting the testcase name as an input, we find the initial state. To accomplish this, first we need to read the given file using `open()` function. \n",
    "<br>\n",
    "The data given as testcases, are 3 *.txt* files in which different maps are being kept. In all of these maps, '#' is considered as *wall*, 'P' is considered as *patient*, 'A' as *ambulance*, and numbers are *hospitals* with the capacity of that number.\n",
    "<br>\n",
    "According to our knowledge of given maps, we find the location of ambulance, patients, walls, and hospitals(plus their capacity) and collect them in sets. The reason for using sets is that they are fast, and will not keep repeated data.\n",
    "<br>\n",
    "Finally, these collected data would be given to a Node's constructor and make the first satate in the problem.\n"
   ]
  },
  {
   "cell_type": "code",
   "execution_count": 71,
   "metadata": {
    "colab": {},
    "colab_type": "code",
    "id": "OPNdc8FS6zU_"
   },
   "outputs": [],
   "source": [
    "def find_startstate(file_name):\n",
    "    with open(file_name, 'r') as f:\n",
    "        map = list(f)\n",
    "    map = np.array(map[0:])\n",
    "    walls = set()\n",
    "    patients = set()\n",
    "    hospitals = set()\n",
    "    position = np.array([0, 0])\n",
    "    \n",
    "    for i in range(map.shape[0]):\n",
    "        for j in range(len(map[i])):\n",
    "            if map[i][j] == '#':\n",
    "                walls.add((i, j))\n",
    "            elif map[i][j] == 'A':\n",
    "                position = (i, j)\n",
    "            elif map[i][j] == 'P':\n",
    "                patients.add((i, j))\n",
    "            elif map[i][j] == ' ' or map[i][j] == '\\n':\n",
    "                continue\n",
    "            else:\n",
    "                hospitals.add(((i, j), int(map[i][j])))\n",
    "    return Node(position, walls, patients, hospitals)\n",
    "\n",
    "def print_path(path):\n",
    "    for item in path:\n",
    "        print(item.position, \"->\", end=\" \")\n",
    "    print(\"END\")\n",
    "    \n",
    "def print_result(all_states, new_states, depth, total_time, method):\n",
    "    print(method, \" takes %s seconds to find the optimal solution for \" % total_time, test_name)\n",
    "    print(\"Depth: \", depth)\n",
    "    print(\"Number of all states: \", all_states)\n",
    "    print(\"Number of unique states: \", new_states)\n"
   ]
  },
  {
   "cell_type": "markdown",
   "metadata": {},
   "source": [
    "## Implementations:\n",
    "The goal of this problem is to find a state in which all of the patients are in hospitals. To accomplish this, we define the **goal state** as *a state in which there is no patient left outside of hospitals*.\n",
    "<br>\n",
    "<br>\n",
    "There are three ways to solve this Search Problem that are implemented below.\n",
    "<br><br>\n",
    "\n",
    "### 1. BFS \n",
    "One of the ways to find the optimal solution to this problem is to implement BFS.\n",
    "<br>\n",
    "BFS is a traversing algorithm which starts traversing from root(here, initial state) and traverse the graph layerwise which leads to exploring all the neighbor nodes at the present depth. It then moves towards the neighbour nodes at the next depth level. Neighbor nodes are the nodes(os states) that are directly accessible from the parent node.(first, root has no parent and it is the parent of all its neighbor)\n",
    "<br>\n",
    "<br>\n",
    "This method is implemented below. To keep track of all nodes in order(their depth), an `OrderedSet` data structure is being used. Using this structure, Nodes are being kept in order, so we can pick them in order and add their childs(in the next depth level) to the set and also repeated states will not be explored."
   ]
  },
  {
   "cell_type": "code",
   "execution_count": 72,
   "metadata": {},
   "outputs": [],
   "source": [
    "def BFS(start_state):\n",
    "    num_all_states = 0\n",
    "    num_new_states = 0\n",
    "    state_set = OrderedSet([start_state])\n",
    "    index = 0\n",
    "    while True:\n",
    "        new_states = state_set[index].find_next_nodes()\n",
    "        for new_state in new_states:\n",
    "            num_all_states += 1\n",
    "            new_state.parent = state_set[index]\n",
    "            if len(new_state.patients) == 0:\n",
    "                path = new_state.find_path()\n",
    "                num_new_states = index+1\n",
    "                return num_all_states, num_new_states, path\n",
    "            \n",
    "        \n",
    "        state_set.update(new_states)\n",
    "        index += 1\n",
    "    num_new_states = index\n",
    "    node = state_set[index]\n",
    "    path = node.find_path()\n",
    "\n",
    "    return num_all_states, num_new_states, path\n"
   ]
  },
  {
   "cell_type": "code",
   "execution_count": 73,
   "metadata": {
    "colab": {
     "base_uri": "https://localhost:8080/",
     "height": 104
    },
    "colab_type": "code",
    "executionInfo": {
     "elapsed": 14224,
     "status": "ok",
     "timestamp": 1583053395482,
     "user": {
      "displayName": "yasamin niknam",
      "photoUrl": "",
      "userId": "01526320391404812660"
     },
     "user_tz": -210
    },
    "id": "d5HXRUuu6zVD",
    "outputId": "6023eada-f907-445c-81da-895273b03b97"
   },
   "outputs": [
    {
     "name": "stdout",
     "output_type": "stream",
     "text": [
      "BFS  takes 0.010878324508666992 seconds to find the optimal solution for  test1.txt\n",
      "Depth:  11\n",
      "Number of all states:  962\n",
      "Number of unique states:  341\n",
      "(1, 3) -> (2, 3) -> (3, 3) -> (4, 3) -> (4, 4) -> (5, 4) -> (5, 3) -> (5, 2) -> (4, 2) -> (3, 2) -> (3, 1) -> (4, 1) -> END\n"
     ]
    }
   ],
   "source": [
    "test_name = 'test1.txt'\n",
    "start_state = find_startstate(test_name)\n",
    "start_time = time.time()\n",
    "num_all_states, num_new_states, path = BFS(start_state)\n",
    "total_time = time.time() - start_time\n",
    "print_result(num_all_states, num_new_states, len(path)-1, total_time, \"BFS\")\n",
    "print_path(path)"
   ]
  },
  {
   "cell_type": "markdown",
   "metadata": {},
   "source": [
    "### 2. IDS \n",
    "Iterative Deepening search or more specifically Iterative Deepening Depth-First Search is a graph search algorithm in which a depth-limited version of DFS(called DLS) is run repeatedly with increasing depth limits until the goal is found. IDS is an optimal optimal solution just like BFS, but uses much less memory according to its use of DFS algorithm.\n",
    "<br>\n",
    "`Depth-first search` (DFS) is an algorithm for traversing graph data structures. This algorithm starts traversing from the root node and explores as far as possible along each branch before backtracking. Then it steps back until it can find another way to explore."
   ]
  },
  {
   "cell_type": "code",
   "execution_count": 74,
   "metadata": {
    "colab": {
     "base_uri": "https://localhost:8080/",
     "height": 1000
    },
    "colab_type": "code",
    "executionInfo": {
     "elapsed": 7494,
     "status": "error",
     "timestamp": 1583061592567,
     "user": {
      "displayName": "yasamin niknam",
      "photoUrl": "",
      "userId": "01526320391404812660"
     },
     "user_tz": -210
    },
    "id": "GDU_KTajoLuS",
    "outputId": "cbee58f6-4b11-4703-8020-c927c33d17fc"
   },
   "outputs": [],
   "source": [
    "def IDS(root: Node, maximum_depth: int=100):\n",
    "    num_all_states = 1\n",
    "    num_new_states = 1\n",
    "    for depth in range(0, maximum_depth):\n",
    "        visited = dict()\n",
    "        founded, new_num_alls, new_num_news = DLS(root, visited, depth)\n",
    "        num_all_states += new_num_alls\n",
    "        if founded:\n",
    "            num_new_states = new_num_news\n",
    "            path = founded.find_path()\n",
    "            return path, num_all_states, num_new_states\n",
    "        \n",
    "def DLS(root, visited, num):\n",
    "    num_all_states = 0\n",
    "    num_new_states = 0\n",
    "    visited[hash(frozenset([root]))] = num\n",
    "\n",
    "    if len(root.patients) == 0:\n",
    "        return root, num_all_states, num_new_states\n",
    "    if num <= 0:\n",
    "        return None, num_all_states, num_new_states\n",
    "\n",
    "    next_states = root.find_next_nodes()\n",
    "    for new_state in next_states:\n",
    "        new_state.parent = root\n",
    "        validity = None\n",
    "        if hash(frozenset([new_state])) in visited:\n",
    "            validity = visited[hash(frozenset([new_state]))]\n",
    "        \n",
    "        num_all_states += 1\n",
    "        if not validity:\n",
    "            num_new_states += 1\n",
    "        if validity is None or validity < (num-1):\n",
    "            founded, new_num_alls, new_num_news = DLS(new_state, visited, num-1)\n",
    "            num_all_states += new_num_alls\n",
    "            num_new_states += new_num_news\n",
    "            if founded:\n",
    "                return founded, num_all_states, num_new_states\n",
    "        else:\n",
    "            continue\n",
    "\n",
    "    return None, num_all_states, num_new_states"
   ]
  },
  {
   "cell_type": "code",
   "execution_count": 75,
   "metadata": {},
   "outputs": [
    {
     "name": "stdout",
     "output_type": "stream",
     "text": [
      "IDS  takes 11.772437334060669 seconds to find the optimal solution for  test1.txt\n",
      "Depth:  39\n",
      "Number of all states:  2428789\n",
      "Number of unique states:  59560\n",
      "(2, 8) -> (2, 7) -> (1, 7) -> (1, 6) -> (1, 7) -> (2, 7) -> (3, 7) -> (4, 7) -> (5, 7) -> (5, 6) -> (5, 5) -> (4, 5) -> (4, 6) -> (5, 6) -> (5, 7) -> (4, 7) -> (3, 7) -> (2, 7) -> (2, 8) -> (1, 8) -> (1, 7) -> (1, 6) -> (1, 7) -> (2, 7) -> (3, 7) -> (4, 7) -> (4, 6) -> (4, 5) -> (4, 4) -> (4, 3) -> (5, 3) -> (5, 2) -> (4, 2) -> (3, 2) -> (2, 2) -> (2, 1) -> (1, 1) -> (1, 2) -> (1, 3) -> (1, 4) -> END\n"
     ]
    }
   ],
   "source": [
    "start_state = find_startstate('test3.txt')\n",
    "start_time = time.time()\n",
    "path, num_all_states, num_new_states = IDS(start_state)\n",
    "total_time = time.time() - start_time\n",
    "print_result(num_all_states, num_new_states, len(path)-1, total_time, \"IDS\")\n",
    "print_path(path)"
   ]
  },
  {
   "cell_type": "markdown",
   "metadata": {},
   "source": [
    "## 3. A* \n",
    "A* Search algorithm is one of the best algorithms used in graph traversals. It uses the steps token before and the estimation of future to make an estimation(called heuristic) for its next step.\n",
    "<br>\n",
    "<br>\n",
    "First, we define a frontier, in which we keep all the states that can be reached from now. Secondly, we define a measure called f, that is:\n",
    "$$ Node.f = Node.g + Node.h$$\n",
    "in which g is number of steps taken till now(distance) and h is the heuristic chosen for this problem.\n",
    "<br>\n",
    "We should note that our heuristic should be admissible and consistent. Otherwise it would not give us the optimal solution. To make sure that the answer is optimal, we check admissibility for every heuristic we suggest. Moreover, as we avoid having repeated states, it would not be necessary to check consistency.\n",
    "Admissible choices are heuristics that have the following condition:\n",
    "$$ h(n) \\leq h^*(n) $$\n",
    "where $h^*(n)$ is the true cost to reach the goal state.\n",
    "<br>\n",
    "<br>\n",
    "For implementing this, we use two heuristics explained below:\n",
    "<br>\n",
    "<br>\n",
    "The heuristic is the sum of minimum distances between patients and hospitals. In each state, the minimum distance needed to be taken to accomplish the goal, is to take every patient to his nearest hospital available. So this heuristic is les or equal to the actual distance(cost) and therefore, it is admissible due to its condition.\n",
    "$$ h(n) \\leq h^*(n)$$\n",
    "\n",
    "This heuristic can be implemented in two different ways. One with **Manhattan Distance** and the other with **Euclidean distance**.\n",
    "#### 3.1. Manhattan Distance \n",
    "*Manhattan distance* or *L1 distance* is a distance metric between two points in a N dimensional vector space. It is the sum of the lengths of the projections of the line segment between the points onto the coordinate axes. In simple terms, it is the sum of absolute difference between the measures in all dimensions of two points.\n",
    "$$L_1(x, y) = ||x-y||_1 = \\sum_{i=1}^{n}|x_i - y_i| $$\n",
    "\n",
    "#### 3.2. Euclidean Distance\n",
    "*Euclidean Distance* or *L2 distance* between two points in either the plane or n-dimensional space measures the length of a segment connecting the two points. It is the most obvious way of representing distance between two points.\n",
    "$$L_2(x, y) = ||x-y||_2 = \\sum_{i=1}^{n}|x_i - y_i|^2 $$\n",
    "\n",
    "<br>\n",
    "<br>\n",
    "Both heuristics are admissible and therefore, both of them give us optimal. But since a patient can be moved along the four cardinal diections and not diagonally, the **Manhattan Distance** would be more close to the real cost. As a result, **L1 Distance** is a better choice. "
   ]
  },
  {
   "cell_type": "code",
   "execution_count": 76,
   "metadata": {},
   "outputs": [],
   "source": [
    "def A_star(start, method):\n",
    "\n",
    "    current = start\n",
    "    closed = set()\n",
    "    frontier = dict()\n",
    "    num_all_states = 0\n",
    "    num_new_states = 0\n",
    "    \n",
    "    frontier[hash(frozenset([current]))] = current\n",
    "    \n",
    "    while len(frontier) != 0:\n",
    "        temp = 10000000\n",
    "        for key,value in frontier.items():\n",
    "            if value.f < temp:\n",
    "                temp = value.f\n",
    "                current = value\n",
    "                \n",
    "        if len(current.patients) == 0:\n",
    "            path = current.find_path()\n",
    "            num_new_states = len(closed)\n",
    "            return path, num_all_states, num_new_states\n",
    "\n",
    "        del frontier[hash(frozenset([current]))]\n",
    "        closed.add(current)\n",
    "        \n",
    "        new_states = Node.find_next_nodes(current)\n",
    "        num_all_states += len(new_states)\n",
    "        for node in new_states:\n",
    "            if node in closed:\n",
    "                continue\n",
    "                \n",
    "            node.calc_h(method)\n",
    "            node.f = node.h + node.g\n",
    "            if hash(frozenset([node])) in frontier:\n",
    "                prev_node = frontier[hash(frozenset([node]))]\n",
    "                \n",
    "                if node.g < prev_node.g:\n",
    "                    prev_node.g = node.g\n",
    "                    prev_node.parent = current\n",
    "            else:\n",
    "                node.parent = current\n",
    "                frontier[hash(frozenset([node]))] = node\n",
    "    \n",
    "    num_new_states = len(closed)\n",
    "    return None, num_all_states, num_new_states"
   ]
  },
  {
   "cell_type": "code",
   "execution_count": 94,
   "metadata": {
    "colab": {
     "base_uri": "https://localhost:8080/",
     "height": 1000
    },
    "colab_type": "code",
    "executionInfo": {
     "elapsed": 4129,
     "status": "error",
     "timestamp": 1583057303542,
     "user": {
      "displayName": "yasamin niknam",
      "photoUrl": "",
      "userId": "01526320391404812660"
     },
     "user_tz": -210
    },
    "id": "ZaKvJ8jwBImE",
    "outputId": "79506200-447d-4c74-8bd5-8c9ca2276f9a"
   },
   "outputs": [
    {
     "name": "stdout",
     "output_type": "stream",
     "text": [
      "A*  takes 1.1937353610992432 seconds to find the optimal solution for  test3.txt\n",
      "Depth:  39\n",
      "Number of all states:  37072\n",
      "Number of unique states:  13467\n",
      "(2, 8) -> (2, 7) -> (1, 7) -> (1, 6) -> (1, 7) -> (2, 7) -> (3, 7) -> (4, 7) -> (5, 7) -> (5, 6) -> (5, 5) -> (4, 5) -> (4, 6) -> (5, 6) -> (5, 7) -> (4, 7) -> (3, 7) -> (2, 7) -> (2, 8) -> (1, 8) -> (1, 7) -> (1, 6) -> (1, 7) -> (2, 7) -> (3, 7) -> (4, 7) -> (4, 6) -> (4, 5) -> (4, 4) -> (4, 3) -> (5, 3) -> (5, 2) -> (4, 2) -> (3, 2) -> (2, 2) -> (2, 1) -> (1, 1) -> (1, 2) -> (1, 3) -> (1, 4) -> END\n"
     ]
    }
   ],
   "source": [
    "test_name ='test3.txt'\n",
    "start_state = find_startstate(test_name)\n",
    "start_time = time.time()\n",
    "path , num_all_states, num_new_states = A_star(start_state, 'h2')\n",
    "total_time = time.time() - start_time\n",
    "print_result(num_all_states, num_new_states, len(path)-1, total_time, \"A*\")\n",
    "print_path(path)"
   ]
  },
  {
   "cell_type": "markdown",
   "metadata": {},
   "source": [
    "# Final Results"
   ]
  },
  {
   "cell_type": "markdown",
   "metadata": {
    "colab": {},
    "colab_type": "code",
    "id": "y09zWjcWNP-w"
   },
   "source": [
    "| Method | Distance(Depth) | Number of all states | Number of unique states | time\n",
    "| --- | --- | --- | --- | --- |\n",
    "| BFS | 11 | 962 | 341 | 0.1125 |\n",
    "| IDS | 11 | 3907 | 544 | 0.035 |\n",
    "| $A^*$(First heuristic) | 11 | 433 | 152 | 0.0106 |\n",
    "| $A^*$(Second heuristic) | 11 | 468 | 164 | 0.0104 |\n",
    "<caption  style=\"text-align:center\">Result for testing 'test1.txt'</caption>\n",
    "\n",
    "\n",
    "| Method | Distance(Depth) | Number of all states | Number of unique states | time\n",
    "| --- | --- | --- | --- | --- |\n",
    "| BFS | 27 | 26208 | 10465 | 0.2679 |\n",
    "| IDS | 27 | 531425 | 16630 | 2.37 |\n",
    "| $A^*$(First heuristic) | 27 | 12509 | 4879 | 0.2868 |\n",
    "| $A^*$(Second heuristic) | 27 | 13809 | 5402 | 0.3765 |\n",
    "<caption  style=\"text-align:center\">Result for testing 'test2.txt'</caption>\n",
    "\n",
    "| Method | Distance(Depth) | Number of all states | Number of unique states | time\n",
    "| --- | --- | --- | --- | --- |\n",
    "| BFS | 39 | 86039 | 31287 | 0.7279 |\n",
    "| IDS | 39 | 2428789 | 59560 | 10.91 |\n",
    "| $A^*$(First heuristic) | 39 | 31782 | 11535 | 0.9341 |\n",
    "| $A^*$(Second heuristic) | 39 | 37072 | 13467 | 1.239 |\n",
    "<caption  style=\"text-align:center\">Result for testing 'test3.txt'</caption>"
   ]
  },
  {
   "cell_type": "markdown",
   "metadata": {},
   "source": [
    "## Comparison "
   ]
  },
  {
   "cell_type": "markdown",
   "metadata": {},
   "source": [
    " Different properties of these algorithms are shown below:\n",
    "<br>\n",
    "<br>\n",
    "\n",
    "| Method | complete | optimal | time | space |\n",
    "| --- | --- | --- | --- | --- |\n",
    "| BFS | yes| yes| O$(4^{depth})$ | O$(4^{depth})$ |\n",
    "| IDS | yes | yes |O$(4^{depth})$ | O$(4depth)$ | \n",
    "| $A^*$ | yes | yes | $\\leq exponential$ | $exponential$ |\n",
    "<caption  style=\"text-align:center\">Properties of different algorithms</caption>\n",
    "\n",
    "<br><br>\n",
    "In the context of search:\n",
    "<br>\n",
    "* A complete algorithm is one that guarantees that if a path to the goal exists, the algorithm will reach the goal.\n",
    "\n",
    "* An optimal algorithm is one that guarantees that it would give you the best answer possible for the problem."
   ]
  },
  {
   "cell_type": "markdown",
   "metadata": {},
   "source": [
    " #### Advantage and Disadvantages of these algorithms\n",
    "<br>\n",
    "<br>\n",
    "* It is obvious that *IDS* algorithm uses much less space as its space is in linear order but other algorithms tend to use exponential space. On the other hand, it should be noticed that in our implementation of *IDS*, we are trying to decrease the time by keeping track of visited states. It denies the fact that *IDS* uses much less space. Reality speaking, *IDS* algorithm takes too much time to show the result(much more than *BFS* and $A^*$)\n",
    "\n",
    "$$ O(IDS) = (depth+1)4^0 + depth\\times 4^1 + (depth-1)4^2 + ... + 4^{depth} = O(4^{depth}) $$ \n",
    "\n",
    "<br>\n",
    "<br>\n",
    "\n",
    "* It can be seen that the only algorithm using much less time (not exponential) is $A^*$ algorithm.\n",
    "<br>\n",
    "<br>\n",
    "\n",
    "* *BFS* algorithm is fast, but memoty intensive. So it can not be used for large amount of data."
   ]
  },
  {
   "cell_type": "markdown",
   "metadata": {},
   "source": []
  },
  {
   "cell_type": "code",
   "execution_count": null,
   "metadata": {},
   "outputs": [],
   "source": []
  }
 ],
 "metadata": {
  "colab": {
   "collapsed_sections": [],
   "name": "CA1.ipynb",
   "provenance": [],
   "toc_visible": true
  },
  "kernelspec": {
   "display_name": "Python 3",
   "language": "python",
   "name": "python3"
  },
  "language_info": {
   "codemirror_mode": {
    "name": "ipython",
    "version": 3
   },
   "file_extension": ".py",
   "mimetype": "text/x-python",
   "name": "python",
   "nbconvert_exporter": "python",
   "pygments_lexer": "ipython3",
   "version": "3.6.9"
  }
 },
 "nbformat": 4,
 "nbformat_minor": 1
}
